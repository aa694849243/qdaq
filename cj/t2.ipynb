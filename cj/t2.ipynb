{
 "cells": [
  {
   "cell_type": "code",
   "execution_count": 221,
   "metadata": {
    "pycharm": {
     "name": "#%%\n"
    }
   },
   "outputs": [],
   "source": [
    "import matplotlib.pyplot as plt\n",
    "from numba import njit, vectorize, prange, guvectorize, float64\n",
    "import numpy as np\n",
    "import math"
   ]
  },
  {
   "cell_type": "code",
   "execution_count": 222,
   "outputs": [],
   "source": [
    "@njit(nogil=True, fastmath=True)\n",
    "def kurtosis(xi4, xi3, xi2, mean_value, size):\n",
    "    return ((xi4 - 4 * mean_value * xi3 + 6 * np.power(mean_value, 2) * xi2 - 3 * size * np.power(mean_value,\n",
    "                                                                                                  4)) * size / np.power(\n",
    "        xi2 - size * np.power(mean_value, 2), 2))"
   ],
   "metadata": {
    "collapsed": false,
    "pycharm": {
     "name": "#%%\n"
    }
   }
  },
  {
   "cell_type": "code",
   "execution_count": 223,
   "metadata": {
    "pycharm": {
     "name": "#%%\n"
    }
   },
   "outputs": [],
   "source": [
    "def kurtosis2(xi4, xi3, xi2, mean_value, size):\n",
    "    return ((xi4 - 4 * mean_value * xi3 + 6 * np.power(mean_value, 2) * xi2 - 3 * size * np.power(mean_value,\n",
    "                                                                                                  4)) * size / np.power(\n",
    "        xi2 - size * np.power(mean_value, 2), 2))"
   ]
  },
  {
   "cell_type": "code",
   "execution_count": 224,
   "outputs": [],
   "source": [
    "@guvectorize([(float64, float64, float64, float64, float64, float64)], '(),(),(),(),()->()')\n",
    "def kurtosis3(xi4, xi3, xi2, mean_value, size, res):\n",
    "    res = ((xi4 - 4 * mean_value * xi3 + 6 * np.power(mean_value, 2) * xi2 - 3 * size * np.power(mean_value,\n",
    "                                                                                                  4)) * size / np.power(\n",
    "        xi2 - size * np.power(mean_value, 2), 2))\n",
    "\n",
    "\n",
    "a = np.random.randn(10000)\n",
    "@guvectorize([(float64[:], float64)], '(n)->()')\n",
    "def rms(data, res):\n",
    "    res = np.sqrt(np.power(data, 2).sum() / len(data))\n",
    "@njit(nogil=True, fastmath=True)\n",
    "def twodtd_rms(data, size):\n",
    "    xi2 = np.sum(np.power(data, 2))\n",
    "    rms_value = np.sqrt(xi2 / size)\n",
    "    return rms_value, xi2\n",
    "def twodtd_rms2(data, size):\n",
    "    xi2 = np.sum(np.power(data, 2))\n",
    "    rms_value = np.sqrt(xi2 / size)\n",
    "    return rms_value, xi2\n",
    "@njit(nogil=True, fastmath=True)\n",
    "def twodtd_crest(data, size):\n",
    "    max_value = np.max(np.abs(data))  # 由max(data)改为max(abs(data))\n",
    "    xi2 = np.sum(np.power(data, 2))\n",
    "    crest = max_value / np.sqrt(xi2 / size)\n",
    "    return crest, max_value, xi2\n",
    "def twodtd_crest2(data, size):\n",
    "    max_value = np.max(np.abs(data))  # 由max(data)改为max(abs(data))\n",
    "    xi2 = np.sum(np.power(data, 2))\n",
    "    crest = max_value / np.sqrt(xi2 / size)\n",
    "    return crest, max_value, xi2\n",
    "@njit(nogil=True, fastmath=True)\n",
    "def twodtd_kurtosis(data, size):\n",
    "    mean_value = np.mean(data)\n",
    "    xi4 = np.sum(np.power(data, 4))\n",
    "    xi3 = np.sum(np.power(data, 3))\n",
    "    xi2 = np.sum(np.power(data, 2))\n",
    "    kur = kurtosis(xi4, xi3, xi2, mean_value, size)\n",
    "    return kur, mean_value, xi4, xi3, xi2\n",
    "def twodtd_kurtosis2(data, size):\n",
    "    mean_value = np.mean(data)\n",
    "    xi4 = np.sum(np.power(data, 4))\n",
    "    xi3 = np.sum(np.power(data, 3))\n",
    "    xi2 = np.sum(np.power(data, 2))\n",
    "    kur = kurtosis(xi4, xi3, xi2, mean_value, size)\n",
    "    return kur, mean_value, xi4, xi3, xi2"
   ],
   "metadata": {
    "collapsed": false,
    "pycharm": {
     "name": "#%%\n"
    }
   }
  },
  {
   "cell_type": "code",
   "execution_count": 225,
   "outputs": [
    {
     "name": "stdout",
     "output_type": "stream",
     "text": [
      "17.8 µs ± 6.97 µs per loop (mean ± std. dev. of 7 runs, 1 loop each)\n"
     ]
    }
   ],
   "source": [
    "%timeit twodtd_kurtosis(a,100)"
   ],
   "metadata": {
    "collapsed": false,
    "pycharm": {
     "name": "#%%\n"
    }
   }
  },
  {
   "cell_type": "code",
   "execution_count": 226,
   "outputs": [
    {
     "name": "stdout",
     "output_type": "stream",
     "text": [
      "614 µs ± 12.3 µs per loop (mean ± std. dev. of 7 runs, 1000 loops each)\n"
     ]
    }
   ],
   "source": [
    "%timeit twodtd_kurtosis2(a,100)"
   ],
   "metadata": {
    "collapsed": false,
    "pycharm": {
     "name": "#%%\n"
    }
   }
  },
  {
   "cell_type": "code",
   "execution_count": 227,
   "outputs": [
    {
     "name": "stdout",
     "output_type": "stream",
     "text": [
      "(0.02958161293681379, -0.00945942326049086, 29724.953803688077, -716.580686222863, 10020.54235384299) (0.029581612936813807, -0.009459423260490854, 29724.953803688062, -716.5806862228638, 10020.542353842984)\n"
     ]
    }
   ],
   "source": [
    "print(twodtd_kurtosis(a, 100)[:10],twodtd_kurtosis2(a, 100)[:10])\n"
   ],
   "metadata": {
    "collapsed": false,
    "pycharm": {
     "name": "#%%\n"
    }
   }
  }
 ],
 "metadata": {
  "kernelspec": {
   "name": "test2",
   "language": "python",
   "display_name": "test2"
  },
  "language_info": {
   "codemirror_mode": {
    "name": "ipython",
    "version": 3
   },
   "file_extension": ".py",
   "mimetype": "text/x-python",
   "name": "python",
   "nbconvert_exporter": "python",
   "pygments_lexer": "ipython3",
   "version": "3.8.3"
  }
 },
 "nbformat": 4,
 "nbformat_minor": 1
}